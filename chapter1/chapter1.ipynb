{
 "cells": [
  {
   "cell_type": "markdown",
   "metadata": {},
   "source": [
    "# Introducing Python"
   ]
  },
  {
   "cell_type": "markdown",
   "metadata": {},
   "source": [
    "Python is not named after the snake, it is named after the (in)famous British comedy group \"Monty Python\". You will find many references to this in the [Python Docs]([https://](https://docs.python.org/3/))."
   ]
  },
  {
   "cell_type": "markdown",
   "metadata": {},
   "source": [
    "## Hello World!\n",
    "Run the cell below to see how to print\n",
    "output in the console with python:"
   ]
  },
  {
   "cell_type": "code",
   "execution_count": 1,
   "metadata": {},
   "outputs": [
    {
     "name": "stdout",
     "output_type": "stream",
     "text": [
      "Hello, World!\n"
     ]
    }
   ],
   "source": [
    "print('Hello, World!')"
   ]
  },
  {
   "cell_type": "markdown",
   "metadata": {},
   "source": [
    "Congratulations! You've just run python code!"
   ]
  },
  {
   "cell_type": "markdown",
   "metadata": {},
   "source": [
    "### Errors\n",
    "Having trouble? Make sure you are using Visual Studio Code, have your ipynb kernel set, and have python installed! Here's what you need with the suggested setup (VSC + Python3 + Extensions):\n",
    "- Visual Studio Code\n",
    "- Python3.10.2 or whatever is latest\n",
    "- VSCode extensions:\n",
    "  - Python Extension Pack\n",
    "  - Jupyter Notebooks Extension\n",
    "  - markdown viewer?\n",
    "It'd also be a good idea to have pip (python package manager) and to setup a virtualenv, but this will be covered later."
   ]
  },
  {
   "cell_type": "markdown",
   "metadata": {},
   "source": [
    "## Moving on...\n",
    "Assuming you have what you need to view these notebooks and have successfully run the hello world script above, you can move to the next notebook where we start to discuss python more in depth."
   ]
  },
  {
   "cell_type": "code",
   "execution_count": 3,
   "metadata": {},
   "outputs": [
    {
     "name": "stdout",
     "output_type": "stream",
     "text": [
      "Python is definitely working!\n"
     ]
    }
   ],
   "source": [
    "# Double Check by running this cell\n",
    "print('Python is definitely working!')"
   ]
  }
 ],
 "metadata": {
  "kernelspec": {
   "display_name": "Python 3",
   "language": "python",
   "name": "python3"
  },
  "language_info": {
   "codemirror_mode": {
    "name": "ipython",
    "version": 3
   },
   "file_extension": ".py",
   "mimetype": "text/x-python",
   "name": "python",
   "nbconvert_exporter": "python",
   "pygments_lexer": "ipython3",
   "version": "3.10.12"
  }
 },
 "nbformat": 4,
 "nbformat_minor": 2
}
