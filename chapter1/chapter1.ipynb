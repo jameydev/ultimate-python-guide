{
 "cells": [
  {
   "cell_type": "markdown",
   "metadata": {},
   "source": [
    "# Introducing Python"
   ]
  },
  {
   "cell_type": "markdown",
   "metadata": {},
   "source": [
    "Python is not named after the snake, it is named after the (in)famous British comedy group \"Monty Python\". You will find many references to this in the [Python Docs]([https://](https://docs.python.org/3/))."
   ]
  },
  {
   "cell_type": "markdown",
   "metadata": {},
   "source": [
    "This series of notebooks and associated .py files are intended to provide a refresher to an experienced developer as well as an introduction to those new to Python and programming."
   ]
  },
  {
   "cell_type": "markdown",
   "metadata": {},
   "source": [
    "The first thing you need to do is install python3x. The latest version should work. Make sure you are running this notebook with at least a 3.10.12 kernel/virtualenv. On Windows, you need to download and install python and add it to your PATH. On Linux or macOS it is probably already installed, but it may not be\n",
    "the latest version. On Linux, you should install the latest with a command in the terminal such as\n"
   ]
  },
  {
   "cell_type": "markdown",
   "metadata": {},
   "source": [
    "**$** *sudo apt install python3*"
   ]
  },
  {
   "cell_type": "markdown",
   "metadata": {},
   "source": [
    "You may have python 2 preinstalled. Make sure to alias 'python3' to 'python'. You may also consider installing pip (the python package manager). Later, however, we will show this and how to setup a virtual environment to keep your system organized."
   ]
  },
  {
   "cell_type": "markdown",
   "metadata": {},
   "source": [
    "On macOS you might be able to use homebrew (brew install python3) or install it by downloading an installer .pkg from [the python website](https://www.python.org/downloads/)."
   ]
  },
  {
   "cell_type": "markdown",
   "metadata": {},
   "source": [
    "Once installed, then I recommend [VSCode](https://code.visualstudio.com/download/) as your IDE/editor. For VSCode extensions, install the python extension pack and make sure you add jupyter notebook support!"
   ]
  },
  {
   "cell_type": "markdown",
   "metadata": {},
   "source": [
    "## Hello World!\n",
    "Run the cell below to see how to print\n",
    "output in the console with python:"
   ]
  },
  {
   "cell_type": "code",
   "execution_count": 1,
   "metadata": {},
   "outputs": [
    {
     "name": "stdout",
     "output_type": "stream",
     "text": [
      "Hello, World!\n"
     ]
    }
   ],
   "source": [
    "print('Hello, World!')"
   ]
  },
  {
   "cell_type": "markdown",
   "metadata": {},
   "source": [
    "Congratulations! You've just run python code!"
   ]
  },
  {
   "cell_type": "markdown",
   "metadata": {},
   "source": [
    "### Errors\n",
    "Having trouble? Make sure you are using Visual Studio Code, have your ipynb kernel set, and have python installed! Here's what you need with the suggested setup (VSC + Python3 + Extensions):\n",
    "- Visual Studio Code\n",
    "- Python3.10.12 or whatever is latest\n",
    "- VSCode extensions:\n",
    "  - Python Extension Pack\n",
    "  - Jupyter Notebooks Extension\n",
    "  - markdown viewer?\n",
    "It'd also be a good idea to have pip (python package manager) and to setup a virtualenv, but this will be covered later."
   ]
  },
  {
   "cell_type": "markdown",
   "metadata": {},
   "source": [
    "## Moving on...\n",
    "Assuming you have what you need to view these notebooks and have successfully run the hello world script above, you can move to the next notebook where we start to discuss python more in depth."
   ]
  },
  {
   "cell_type": "code",
   "execution_count": 3,
   "metadata": {},
   "outputs": [
    {
     "name": "stdout",
     "output_type": "stream",
     "text": [
      "Python is definitely working!\n"
     ]
    }
   ],
   "source": [
    "# Double Check by running this cell\n",
    "print('Python is definitely working!')"
   ]
  },
  {
   "cell_type": "markdown",
   "metadata": {},
   "source": [
    "[To the next notebook!](chapter1-datatypes.ipynb)"
   ]
  }
 ],
 "metadata": {
  "kernelspec": {
   "display_name": "Python 3",
   "language": "python",
   "name": "python3"
  },
  "language_info": {
   "codemirror_mode": {
    "name": "ipython",
    "version": 3
   },
   "file_extension": ".py",
   "mimetype": "text/x-python",
   "name": "python",
   "nbconvert_exporter": "python",
   "pygments_lexer": "ipython3",
   "version": "3.10.12"
  }
 },
 "nbformat": 4,
 "nbformat_minor": 2
}
